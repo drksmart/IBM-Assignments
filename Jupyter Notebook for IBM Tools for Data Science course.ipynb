{
 "cells": [
  {
   "cell_type": "markdown",
   "id": "9ba585f3-b8a8-4ba7-9829-89e5d336b32a",
   "metadata": {},
   "source": [
    "# My Jupyter Notebook on IBM Watson Studio"
   ]
  },
  {
   "cell_type": "markdown",
   "id": "8279fac8-809b-4b65-b086-8b4e11d11aa7",
   "metadata": {},
   "source": [
    "**Derek Smart**  \n",
    "Director, Data Science and Analytics"
   ]
  },
  {
   "cell_type": "markdown",
   "id": "f2b40087-78ae-45f5-9056-2b4f562f9770",
   "metadata": {},
   "source": [
    "*I am interested in Data Science because it's a discipline that helps me engage with my curiousity about the world, while also, hopefully, having an opportunity to make people's lives better.*"
   ]
  },
  {
   "cell_type": "markdown",
   "id": "816b5b59-0dd6-4c0e-9f48-35828a2a7c05",
   "metadata": {},
   "source": [
    "### This code will print the phrase \"Hello world.\" ###"
   ]
  },
  {
   "cell_type": "code",
   "execution_count": 2,
   "id": "2cab3a84-2c94-4eac-932b-ea7e90a30792",
   "metadata": {},
   "outputs": [
    {
     "name": "stdout",
     "output_type": "stream",
     "text": [
      "Hello world.\n"
     ]
    }
   ],
   "source": [
    "print(\"Hello world.\")"
   ]
  },
  {
   "cell_type": "markdown",
   "id": "e61029a7-2b10-4338-b4c5-fd014d5d86c8",
   "metadata": {},
   "source": [
    "The CEO said the following:  \n",
    "\n",
    ">I'm so proud of everthing we've accomplished. We have:  \n",
    "> - Increase revenue\n",
    "> - Reduced spending\n",
    "> - Saved soooooo many kitties  \n",
    "\n",
    "I couldn't ~~disagree~~ agree more."
   ]
  },
  {
   "cell_type": "code",
   "execution_count": null,
   "id": "958b2c0a-9523-4240-9369-c63f308394a1",
   "metadata": {},
   "outputs": [],
   "source": []
  }
 ],
 "metadata": {
  "kernelspec": {
   "display_name": "Python 3 (ipykernel)",
   "language": "python",
   "name": "python3"
  },
  "language_info": {
   "codemirror_mode": {
    "name": "ipython",
    "version": 3
   },
   "file_extension": ".py",
   "mimetype": "text/x-python",
   "name": "python",
   "nbconvert_exporter": "python",
   "pygments_lexer": "ipython3",
   "version": "3.10.5"
  }
 },
 "nbformat": 4,
 "nbformat_minor": 5
}
